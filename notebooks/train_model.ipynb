{
 "cells": [
  {
   "cell_type": "code",
   "execution_count": 1,
   "metadata": {},
   "outputs": [],
   "source": [
    "import warnings\n",
    "warnings.filterwarnings('ignore')"
   ]
  },
  {
   "cell_type": "code",
   "execution_count": 2,
   "metadata": {
    "id": "RU250DuCBs7B"
   },
   "outputs": [],
   "source": [
    "import pandas as pd\n",
    "import numpy as np\n",
    "import os\n",
    "import matplotlib.pyplot as plt\n",
    "import tqdm\n",
    "\n",
    "from sklearn.metrics import mean_squared_error\n",
    "from sklearn.model_selection import train_test_split"
   ]
  },
  {
   "cell_type": "code",
   "execution_count": 3,
   "metadata": {},
   "outputs": [],
   "source": [
    "from catboost import CatBoostRegressor\n",
    "from sklearn.model_selection import cross_val_score"
   ]
  },
  {
   "cell_type": "code",
   "execution_count": 4,
   "metadata": {},
   "outputs": [],
   "source": [
    "DATA_DIR = '../data/Останкино'"
   ]
  },
  {
   "cell_type": "code",
   "execution_count": 5,
   "metadata": {},
   "outputs": [],
   "source": [
    "PROFMERS_TRAIN_DIR = os.path.join(DATA_DIR, 'historic_data', 'Профилемер')\n",
    "STATIONS_TRAIN_DIR = os.path.join(DATA_DIR, 'historic_data', 'Останкино 0 метео 2015-2020 г')\n",
    "COMPONENTS_TRAIN =  os.path.join(DATA_DIR, 'historic_data', 'Останкино 2015-2020гг_components.xlsx')"
   ]
  },
  {
   "cell_type": "code",
   "execution_count": 6,
   "metadata": {},
   "outputs": [],
   "source": [
    "SEED = 1"
   ]
  },
  {
   "cell_type": "code",
   "execution_count": 7,
   "metadata": {},
   "outputs": [],
   "source": [
    "files_profmers = [os.path.join(PROFMERS_TRAIN_DIR, obj) for obj in os.listdir(PROFMERS_TRAIN_DIR) if os.path.isfile(os.path.join(PROFMERS_TRAIN_DIR, obj))]"
   ]
  },
  {
   "cell_type": "code",
   "execution_count": 8,
   "metadata": {},
   "outputs": [],
   "source": [
    "def get_skip_rows_num(file_path):\n",
    "    \"\"\"\n",
    "    Find row number where dataframe starts\n",
    "    \"\"\"\n",
    "    row_count = 0\n",
    "\n",
    "    with open(file_path) as f:\n",
    "         for l in f.readlines():\n",
    "            if l.startswith('data'):\n",
    "                break\n",
    "            row_count += 1\n",
    "    return row_count"
   ]
  },
  {
   "cell_type": "code",
   "execution_count": 9,
   "metadata": {},
   "outputs": [],
   "source": [
    "def get_components_data(file_path):\n",
    "    \"\"\"\n",
    "    Each sheet corresponds to a year\n",
    "    \"\"\"\n",
    "    df = []\n",
    "    sheets = pd.read_excel(file_path, sheet_name=None, engine='openpyxl')\n",
    "\n",
    "    for k, sheet in sheets.items():\n",
    "        df.append(sheet)\n",
    "    if len(df) != 0:\n",
    "        df = pd.concat(df)\n",
    "        \n",
    "    return df"
   ]
  },
  {
   "cell_type": "code",
   "execution_count": 10,
   "metadata": {
    "id": "2vRDD47VB0rK"
   },
   "outputs": [],
   "source": [
    "#  profilemers\n",
    "df_profmers = []\n",
    "df = pd.DataFrame()\n",
    "\n",
    "for file_path in files_profmers:\n",
    "    skiprows = get_skip_rows_num(file_path)\n",
    "    try:\n",
    "        df = pd.read_csv(file_path, sep=\"\\t\", skiprows=skiprows, decimal=',')\n",
    "    except pd.errors.EmptyDataError:\n",
    "        continue\n",
    "    df['datetime'] = pd.to_datetime(df['data time'], dayfirst=True)\n",
    "    df.set_index('datetime', inplace=True)\n",
    "    df_profmers.append(df)\n",
    "\n",
    "df_pr = pd.concat(df_profmers)\n",
    "df_pr.sort_index(inplace=True) "
   ]
  },
  {
   "cell_type": "code",
   "execution_count": 11,
   "metadata": {
    "scrolled": true
   },
   "outputs": [
    {
     "data": {
      "text/html": [
       "<div>\n",
       "<style scoped>\n",
       "    .dataframe tbody tr th:only-of-type {\n",
       "        vertical-align: middle;\n",
       "    }\n",
       "\n",
       "    .dataframe tbody tr th {\n",
       "        vertical-align: top;\n",
       "    }\n",
       "\n",
       "    .dataframe thead th {\n",
       "        text-align: right;\n",
       "    }\n",
       "</style>\n",
       "<table border=\"1\" class=\"dataframe\">\n",
       "  <thead>\n",
       "    <tr style=\"text-align: right;\">\n",
       "      <th></th>\n",
       "      <th>datetime</th>\n",
       "      <th>data time</th>\n",
       "      <th>0</th>\n",
       "      <th>50</th>\n",
       "      <th>100</th>\n",
       "      <th>150</th>\n",
       "      <th>200</th>\n",
       "      <th>250</th>\n",
       "      <th>300</th>\n",
       "      <th>350</th>\n",
       "      <th>...</th>\n",
       "      <th>Unnamed: 21</th>\n",
       "      <th>Unnamed: 22</th>\n",
       "      <th>650</th>\n",
       "      <th>700</th>\n",
       "      <th>750</th>\n",
       "      <th>800</th>\n",
       "      <th>850</th>\n",
       "      <th>900</th>\n",
       "      <th>950</th>\n",
       "      <th>1000</th>\n",
       "    </tr>\n",
       "  </thead>\n",
       "  <tbody>\n",
       "    <tr>\n",
       "      <th>0</th>\n",
       "      <td>2015-01-01 00:00:00</td>\n",
       "      <td>01/01/2015 00:00:00</td>\n",
       "      <td>-6.73</td>\n",
       "      <td>-7.42</td>\n",
       "      <td>-7.94</td>\n",
       "      <td>-8.52</td>\n",
       "      <td>-8.88</td>\n",
       "      <td>-8.99</td>\n",
       "      <td>-8.90</td>\n",
       "      <td>-8.72</td>\n",
       "      <td>...</td>\n",
       "      <td>NaN</td>\n",
       "      <td>NaN</td>\n",
       "      <td>NaN</td>\n",
       "      <td>NaN</td>\n",
       "      <td>NaN</td>\n",
       "      <td>NaN</td>\n",
       "      <td>NaN</td>\n",
       "      <td>NaN</td>\n",
       "      <td>NaN</td>\n",
       "      <td>NaN</td>\n",
       "    </tr>\n",
       "    <tr>\n",
       "      <th>1</th>\n",
       "      <td>2015-01-01 00:05:00</td>\n",
       "      <td>01/01/2015 00:05:00</td>\n",
       "      <td>-6.72</td>\n",
       "      <td>-7.29</td>\n",
       "      <td>-7.93</td>\n",
       "      <td>-8.49</td>\n",
       "      <td>-8.66</td>\n",
       "      <td>-8.88</td>\n",
       "      <td>-8.96</td>\n",
       "      <td>-8.81</td>\n",
       "      <td>...</td>\n",
       "      <td>NaN</td>\n",
       "      <td>NaN</td>\n",
       "      <td>NaN</td>\n",
       "      <td>NaN</td>\n",
       "      <td>NaN</td>\n",
       "      <td>NaN</td>\n",
       "      <td>NaN</td>\n",
       "      <td>NaN</td>\n",
       "      <td>NaN</td>\n",
       "      <td>NaN</td>\n",
       "    </tr>\n",
       "  </tbody>\n",
       "</table>\n",
       "<p>2 rows × 33 columns</p>\n",
       "</div>"
      ],
      "text/plain": [
       "             datetime            data time     0    50   100   150   200  \\\n",
       "0 2015-01-01 00:00:00  01/01/2015 00:00:00 -6.73 -7.42 -7.94 -8.52 -8.88   \n",
       "1 2015-01-01 00:05:00  01/01/2015 00:05:00 -6.72 -7.29 -7.93 -8.49 -8.66   \n",
       "\n",
       "    250   300   350  ...  Unnamed: 21  Unnamed: 22  650  700  750  800  850  \\\n",
       "0 -8.99 -8.90 -8.72  ...          NaN          NaN  NaN  NaN  NaN  NaN  NaN   \n",
       "1 -8.88 -8.96 -8.81  ...          NaN          NaN  NaN  NaN  NaN  NaN  NaN   \n",
       "\n",
       "   900  950  1000  \n",
       "0  NaN  NaN   NaN  \n",
       "1  NaN  NaN   NaN  \n",
       "\n",
       "[2 rows x 33 columns]"
      ]
     },
     "execution_count": 11,
     "metadata": {},
     "output_type": "execute_result"
    }
   ],
   "source": [
    "df_pr = df_pr.reset_index()\n",
    "df_pr.head(2)"
   ]
  },
  {
   "cell_type": "code",
   "execution_count": 22,
   "metadata": {},
   "outputs": [],
   "source": [
    "df_components = get_components_data(COMPONENTS_TRAIN)\n",
    "df_components = df_components.dropna(subset=['Дата и время']).reset_index(drop=True)"
   ]
  },
  {
   "cell_type": "code",
   "execution_count": 23,
   "metadata": {},
   "outputs": [
    {
     "data": {
      "text/html": [
       "<div>\n",
       "<style scoped>\n",
       "    .dataframe tbody tr th:only-of-type {\n",
       "        vertical-align: middle;\n",
       "    }\n",
       "\n",
       "    .dataframe tbody tr th {\n",
       "        vertical-align: top;\n",
       "    }\n",
       "\n",
       "    .dataframe thead th {\n",
       "        text-align: right;\n",
       "    }\n",
       "</style>\n",
       "<table border=\"1\" class=\"dataframe\">\n",
       "  <thead>\n",
       "    <tr style=\"text-align: right;\">\n",
       "      <th></th>\n",
       "      <th>Дата и время</th>\n",
       "      <th>CO</th>\n",
       "      <th>NO2</th>\n",
       "      <th>NO</th>\n",
       "      <th>PM10</th>\n",
       "      <th>PM2.5</th>\n",
       "    </tr>\n",
       "  </thead>\n",
       "  <tbody>\n",
       "    <tr>\n",
       "      <th>0</th>\n",
       "      <td>01/01/2015 00:00</td>\n",
       "      <td>0.2</td>\n",
       "      <td>0.009</td>\n",
       "      <td>0.002</td>\n",
       "      <td>0.007</td>\n",
       "      <td>NaN</td>\n",
       "    </tr>\n",
       "    <tr>\n",
       "      <th>1</th>\n",
       "      <td>01/01/2015 00:20</td>\n",
       "      <td>0.2</td>\n",
       "      <td>0.010</td>\n",
       "      <td>0.002</td>\n",
       "      <td>0.008</td>\n",
       "      <td>NaN</td>\n",
       "    </tr>\n",
       "  </tbody>\n",
       "</table>\n",
       "</div>"
      ],
      "text/plain": [
       "       Дата и время   CO    NO2     NO   PM10  PM2.5\n",
       "0  01/01/2015 00:00  0.2  0.009  0.002  0.007    NaN\n",
       "1  01/01/2015 00:20  0.2  0.010  0.002  0.008    NaN"
      ]
     },
     "execution_count": 23,
     "metadata": {},
     "output_type": "execute_result"
    }
   ],
   "source": [
    "df_components.head(2)"
   ]
  },
  {
   "cell_type": "code",
   "execution_count": 24,
   "metadata": {},
   "outputs": [],
   "source": [
    "df_components['datetime'] = pd.to_datetime(df_components['Дата и время'], dayfirst=True)"
   ]
  },
  {
   "cell_type": "code",
   "execution_count": 25,
   "metadata": {},
   "outputs": [],
   "source": [
    "# station\n",
    "station_dfs = []\n",
    "for station in os.listdir(STATIONS_TRAIN_DIR):\n",
    "    if os.path.splitext(station)[1] != '.xlsx':\n",
    "        continue\n",
    "    df_station = pd.read_excel(os.path.join(STATIONS_TRAIN_DIR, station), engine='openpyxl')\n",
    "    df_station = df_station[1:].reset_index(drop=True)\n",
    "    station_dfs.append(df_station)"
   ]
  },
  {
   "cell_type": "code",
   "execution_count": 26,
   "metadata": {},
   "outputs": [],
   "source": [
    "df_station = pd.concat(station_dfs)"
   ]
  },
  {
   "cell_type": "code",
   "execution_count": 27,
   "metadata": {},
   "outputs": [
    {
     "data": {
      "text/html": [
       "<div>\n",
       "<style scoped>\n",
       "    .dataframe tbody tr th:only-of-type {\n",
       "        vertical-align: middle;\n",
       "    }\n",
       "\n",
       "    .dataframe tbody tr th {\n",
       "        vertical-align: top;\n",
       "    }\n",
       "\n",
       "    .dataframe thead th {\n",
       "        text-align: right;\n",
       "    }\n",
       "</style>\n",
       "<table border=\"1\" class=\"dataframe\">\n",
       "  <thead>\n",
       "    <tr style=\"text-align: right;\">\n",
       "      <th></th>\n",
       "      <th>Дата и время</th>\n",
       "      <th>Давление</th>\n",
       "      <th>Влажность</th>\n",
       "      <th>| V |</th>\n",
       "      <th>_V_</th>\n",
       "      <th>-T-</th>\n",
       "      <th>Осадки</th>\n",
       "      <th>Дальность видимости</th>\n",
       "      <th>Текущая погода, код по SYNOP</th>\n",
       "      <th>Погода за текущие 15 мин, код по SYNOP</th>\n",
       "      <th>...</th>\n",
       "      <th>Unnamed: 23</th>\n",
       "      <th>Unnamed: 24</th>\n",
       "      <th>Unnamed: 25</th>\n",
       "      <th>Unnamed: 26</th>\n",
       "      <th>Unnamed: 27</th>\n",
       "      <th>Unnamed: 28</th>\n",
       "      <th>Unnamed: 29</th>\n",
       "      <th>Unnamed: 30</th>\n",
       "      <th>Unnamed: 31</th>\n",
       "      <th>datetime</th>\n",
       "    </tr>\n",
       "  </thead>\n",
       "  <tbody>\n",
       "    <tr>\n",
       "      <th>0</th>\n",
       "      <td>01/01/2019 00:00</td>\n",
       "      <td>754.3</td>\n",
       "      <td>72.0</td>\n",
       "      <td>1.3</td>\n",
       "      <td>197.0</td>\n",
       "      <td>-4.0</td>\n",
       "      <td>0.0</td>\n",
       "      <td>1309.0</td>\n",
       "      <td>10.0</td>\n",
       "      <td>10.0</td>\n",
       "      <td>...</td>\n",
       "      <td>NaN</td>\n",
       "      <td>NaN</td>\n",
       "      <td>NaN</td>\n",
       "      <td>NaN</td>\n",
       "      <td>NaN</td>\n",
       "      <td>NaN</td>\n",
       "      <td>NaN</td>\n",
       "      <td>NaN</td>\n",
       "      <td>NaN</td>\n",
       "      <td>2019-01-01 00:00:00</td>\n",
       "    </tr>\n",
       "    <tr>\n",
       "      <th>1</th>\n",
       "      <td>01/01/2019 00:20</td>\n",
       "      <td>754.3</td>\n",
       "      <td>72.0</td>\n",
       "      <td>0.8</td>\n",
       "      <td>190.0</td>\n",
       "      <td>-4.0</td>\n",
       "      <td>0.0</td>\n",
       "      <td>1315.0</td>\n",
       "      <td>10.0</td>\n",
       "      <td>10.0</td>\n",
       "      <td>...</td>\n",
       "      <td>NaN</td>\n",
       "      <td>NaN</td>\n",
       "      <td>NaN</td>\n",
       "      <td>NaN</td>\n",
       "      <td>NaN</td>\n",
       "      <td>NaN</td>\n",
       "      <td>NaN</td>\n",
       "      <td>NaN</td>\n",
       "      <td>NaN</td>\n",
       "      <td>2019-01-01 00:20:00</td>\n",
       "    </tr>\n",
       "  </tbody>\n",
       "</table>\n",
       "<p>2 rows × 33 columns</p>\n",
       "</div>"
      ],
      "text/plain": [
       "       Дата и время  Давление  Влажность  | V |    _V_  -T-  Осадки  \\\n",
       "0  01/01/2019 00:00     754.3       72.0    1.3  197.0 -4.0     0.0   \n",
       "1  01/01/2019 00:20     754.3       72.0    0.8  190.0 -4.0     0.0   \n",
       "\n",
       "   Дальность видимости  Текущая погода, код по SYNOP  \\\n",
       "0               1309.0                          10.0   \n",
       "1               1315.0                          10.0   \n",
       "\n",
       "   Погода за текущие 15 мин, код по SYNOP  ...  Unnamed: 23  Unnamed: 24  \\\n",
       "0                                    10.0  ...          NaN          NaN   \n",
       "1                                    10.0  ...          NaN          NaN   \n",
       "\n",
       "   Unnamed: 25  Unnamed: 26  Unnamed: 27  Unnamed: 28  Unnamed: 29  \\\n",
       "0          NaN          NaN          NaN          NaN          NaN   \n",
       "1          NaN          NaN          NaN          NaN          NaN   \n",
       "\n",
       "   Unnamed: 30  Unnamed: 31            datetime  \n",
       "0          NaN          NaN 2019-01-01 00:00:00  \n",
       "1          NaN          NaN 2019-01-01 00:20:00  \n",
       "\n",
       "[2 rows x 33 columns]"
      ]
     },
     "execution_count": 27,
     "metadata": {},
     "output_type": "execute_result"
    }
   ],
   "source": [
    "df_station['datetime'] = pd.to_datetime(df_station['Дата и время'])\n",
    "df_station.head(2)"
   ]
  },
  {
   "cell_type": "code",
   "execution_count": 28,
   "metadata": {},
   "outputs": [],
   "source": [
    "df_components = df_components.drop(columns=['Дата и время'])\n",
    "df_station = df_station.drop(columns=['Дата и время'])\n",
    "df_pr = df_pr.drop(columns=['data time'])"
   ]
  },
  {
   "cell_type": "code",
   "execution_count": 29,
   "metadata": {},
   "outputs": [],
   "source": [
    "def round_time(tm, min_interval=10):\n",
    "    discard = pd.Timedelta(minutes=tm.minute % min_interval,\n",
    "                           seconds=tm.second,\n",
    "                           microseconds=tm.microsecond)\n",
    "    tm -= discard\n",
    "    if discard >= pd.Timedelta(minutes=min_interval/2):\n",
    "        tm += pd.Timedelta(minutes=min_interval)\n",
    "\n",
    "    return tm"
   ]
  },
  {
   "cell_type": "code",
   "execution_count": 30,
   "metadata": {},
   "outputs": [],
   "source": [
    "df_station['datetime'] = df_station['datetime'].apply(lambda x: round_time(x, 10))\n",
    "df_components['datetime'] = df_components['datetime'].apply(lambda x: round_time(x, 10))\n",
    "df_pr['datetime'] = df_pr['datetime'].apply(lambda x: round_time(x, 5))"
   ]
  },
  {
   "cell_type": "code",
   "execution_count": 31,
   "metadata": {},
   "outputs": [],
   "source": [
    "df_X = pd.merge(df_station, df_pr, how='left', on='datetime')\n",
    "df_X = pd.merge(df_X, df_components, how='left', on='datetime')"
   ]
  },
  {
   "cell_type": "code",
   "execution_count": 32,
   "metadata": {},
   "outputs": [
    {
     "data": {
      "text/plain": [
       "(157824, 68)"
      ]
     },
     "execution_count": 32,
     "metadata": {},
     "output_type": "execute_result"
    }
   ],
   "source": [
    "df_X.shape"
   ]
  },
  {
   "cell_type": "code",
   "execution_count": 33,
   "metadata": {},
   "outputs": [],
   "source": [
    "df_X['hour'] = df_X['datetime'].apply(lambda x: x.hour)\n",
    "df_X['dayofweek'] = df_X['datetime'].apply(lambda x: x.dayofweek)\n",
    "df_X['month'] = df_X['datetime'].apply(lambda x: x.month)\n",
    "df_X['day'] = df_X['datetime'].apply(lambda x: x.day)"
   ]
  },
  {
   "cell_type": "code",
   "execution_count": 34,
   "metadata": {
    "colab": {
     "base_uri": "https://localhost:8080/"
    },
    "id": "iZvExfXCDXJy",
    "outputId": "1a63223f-701a-4bed-cb2a-d4400820e4df"
   },
   "outputs": [
    {
     "name": "stdout",
     "output_type": "stream",
     "text": [
      "Features to drop: ['Unnamed: 16_x', 'Unnamed: 17_x', 'Unnamed: 18_x', 'Unnamed: 19_x', 'Unnamed: 20_x', 'Unnamed: 21_x', 'Unnamed: 22_x', 'Unnamed: 23', 'Unnamed: 24', 'Unnamed: 25', 'Unnamed: 26', 'Unnamed: 27', 'Unnamed: 28', 'Unnamed: 29', 'Unnamed: 30', 'Unnamed: 31', 'Unnamed: 15', 'Unnamed: 16_y', 'Unnamed: 17_y', 'Unnamed: 18_y', 'Unnamed: 19_y', 'Unnamed: 20_y', 'Unnamed: 21_y', 'Unnamed: 22_y', '650', '700', '750', '800', '850', '900', '950', '1000', 'Дальность видимости', 'Текущая погода, код по SYNOP', 'Погода за текущие 15 мин, код по SYNOP', 'Погода за текущий час, код по SYNOP', 'Интенсивность дождя', 'Количество осадков, дождь', 'Количество осадков, снег', 'Температура поперечины FS11P', 'Яркость фона']\n"
     ]
    }
   ],
   "source": [
    "# Drop features if all values are missing\n",
    "df_t = df_X.isnull().all()\n",
    "cols_to_drop = df_t[df_t == True].index.to_list()\n",
    "\n",
    "# Drop features if there are only one unique value\n",
    "for feature in df_X.columns:\n",
    "    if df_X[feature].nunique() == 1:\n",
    "        cols_to_drop.append(feature)\n",
    "\n",
    "# Drop deprecated time data\n",
    "drop_ = ['650', '700', '750', '800', '850', '900', '950', '1000',\n",
    "         'Дальность видимости', 'Текущая погода, код по SYNOP', 'Погода за текущие 15 мин, код по SYNOP',\n",
    "         'Погода за текущий час, код по SYNOP', 'Интенсивность дождя', 'Количество осадков, дождь',\n",
    "         'Количество осадков, снег', 'Температура поперечины FS11P', 'Яркость фона']\n",
    "\n",
    "cols_to_drop.extend(drop_)\n",
    "\n",
    "print('Features to drop:', cols_to_drop)\n",
    "df_X = df_X.drop(columns=cols_to_drop)"
   ]
  },
  {
   "cell_type": "code",
   "execution_count": 35,
   "metadata": {},
   "outputs": [],
   "source": [
    "# data by hour\n",
    "df_X = df_X.sort_values(by=['datetime'])\n",
    "df_X = df_X.resample('60min', on='datetime').first().drop(columns=['datetime']).reset_index()"
   ]
  },
  {
   "cell_type": "code",
   "execution_count": 36,
   "metadata": {},
   "outputs": [],
   "source": [
    "df_X.drop(columns=['datetime'], inplace=True)"
   ]
  },
  {
   "cell_type": "code",
   "execution_count": 37,
   "metadata": {},
   "outputs": [
    {
     "data": {
      "text/plain": [
       "Index(['Давление', 'Влажность', '| V |', '_V_', '-T-', 'Осадки', '0', '50',\n",
       "       '100', '150', '200', '250', '300', '350', '400', '450', '500', '550',\n",
       "       '600', 'OutsideTemperature', 'Quality', 'CO', 'NO2', 'NO', 'PM10',\n",
       "       'PM2.5', 'hour', 'dayofweek', 'month', 'day'],\n",
       "      dtype='object')"
      ]
     },
     "execution_count": 37,
     "metadata": {},
     "output_type": "execute_result"
    }
   ],
   "source": [
    "df_X.columns"
   ]
  },
  {
   "cell_type": "code",
   "execution_count": 38,
   "metadata": {},
   "outputs": [],
   "source": [
    "def create_dataset(X, y, window_size, past_agg_window):\n",
    "    Xs = []\n",
    "    ys = []\n",
    "    s = ['hour', 'month', 'day', 'dayofweek']\n",
    "    w = ['-T-', '| V |', 'Давление', 'Влажность', 'Осадки']\n",
    "    columns = ['Давление', 'Влажность', '| V |', '_V_', '-T-', 'Осадки', '0', '50',\n",
    "               '100', '150', '200', '250', '300', '350', '400', '450', '500', '550',\n",
    "               '600', 'OutsideTemperature', 'Quality', 'CO', 'NO2', 'NO', 'PM10',\n",
    "               'PM2.5']\n",
    "    \n",
    "    d = X[s]\n",
    "    X = X[columns]\n",
    "\n",
    "    for i in range(0, X.shape[0] - window_size):\n",
    "        if np.any(np.isnan(y.iloc[i+window_size].values)):  # filtering out target values with NaN\n",
    "            continue\n",
    "        previous_max = X.iloc[i-2*past_agg_window:i].max()\n",
    "        previous_min = X.iloc[i-2*past_agg_window:i].min()\n",
    "        \n",
    "        previous_min_1 = X.iloc[i-1*past_agg_window:i].min()\n",
    "        \n",
    "        current_d = d.iloc[i][['hour', 'month', 'dayofweek']]\n",
    "        \n",
    "        future_w = X.iloc[i+window_size][w]\n",
    "        \n",
    "        data = pd.concat([X.iloc[i], previous_max, previous_min, previous_min_1, current_d, future_w])\n",
    "        Xs.append(data)\n",
    "        ys.append(y.iloc[i+window_size])\n",
    "        \n",
    "    return np.array(Xs), np.array(ys).flatten()"
   ]
  },
  {
   "cell_type": "code",
   "execution_count": 90,
   "metadata": {},
   "outputs": [],
   "source": [
    "X, y = df_X[:15000], df_X[:15000][['NO']]"
   ]
  },
  {
   "cell_type": "code",
   "execution_count": 91,
   "metadata": {},
   "outputs": [],
   "source": [
    "WINDOW_SIZE = 24"
   ]
  },
  {
   "cell_type": "code",
   "execution_count": 92,
   "metadata": {},
   "outputs": [],
   "source": [
    "X, y = create_dataset(X, y, WINDOW_SIZE, 2)"
   ]
  },
  {
   "cell_type": "code",
   "execution_count": 93,
   "metadata": {},
   "outputs": [],
   "source": [
    "model = CatBoostRegressor(random_state=SEED, verbose=0)"
   ]
  },
  {
   "cell_type": "code",
   "execution_count": 94,
   "metadata": {
    "scrolled": true
   },
   "outputs": [],
   "source": [
    "X_train, X_test, y_train, y_test = train_test_split(X,\n",
    "                                                    y,\n",
    "                                                    random_state=SEED,\n",
    "                                                    test_size=0.2,\n",
    "                                                    shuffle=False)"
   ]
  },
  {
   "cell_type": "code",
   "execution_count": 95,
   "metadata": {
    "scrolled": true
   },
   "outputs": [
    {
     "data": {
      "text/plain": [
       "<catboost.core.CatBoostRegressor at 0x7f43f0a6c040>"
      ]
     },
     "execution_count": 95,
     "metadata": {},
     "output_type": "execute_result"
    }
   ],
   "source": [
    "model.fit(X_train, y_train)"
   ]
  },
  {
   "cell_type": "code",
   "execution_count": 96,
   "metadata": {},
   "outputs": [],
   "source": [
    "y_pred = model.predict(X_test)"
   ]
  },
  {
   "cell_type": "code",
   "execution_count": 97,
   "metadata": {},
   "outputs": [],
   "source": [
    "y_pred = np.where(y_pred < 0, 0, y_pred)"
   ]
  },
  {
   "cell_type": "code",
   "execution_count": 1988,
   "metadata": {},
   "outputs": [
    {
     "data": {
      "text/plain": [
       "0.0004791252551901818"
      ]
     },
     "execution_count": 1988,
     "metadata": {},
     "output_type": "execute_result"
    }
   ],
   "source": [
    "-cross_val_score(model, X_test, y_test, cv=3, scoring='neg_mean_squared_error').mean()"
   ]
  },
  {
   "cell_type": "code",
   "execution_count": 98,
   "metadata": {},
   "outputs": [
    {
     "data": {
      "image/png": "[encoded data removed]",
      "text/plain": [
       "<Figure size 432x288 with 1 Axes>"
      ]
     },
     "metadata": {
      "needs_background": "light"
     },
     "output_type": "display_data"
    }
   ],
   "source": [
    "plt.plot(y_test)\n",
    "\n",
    "plt.plot(y_pred)\n",
    "\n",
    "plt.show()"
   ]
  },
  {
   "cell_type": "code",
   "execution_count": 99,
   "metadata": {},
   "outputs": [
    {
     "data": {
      "image/png": "[encoded data removed]",
      "text/plain": [
       "<Figure size 432x288 with 1 Axes>"
      ]
     },
     "metadata": {
      "needs_background": "light"
     },
     "output_type": "display_data"
    }
   ],
   "source": [
    "plt.plot(y_test[100:250])\n",
    "\n",
    "plt.plot(y_pred[100:250])\n",
    "\n",
    "plt.show()"
   ]
  },
  {
   "cell_type": "code",
   "execution_count": null,
   "metadata": {},
   "outputs": [],
   "source": []
  },
  {
   "cell_type": "code",
   "execution_count": null,
   "metadata": {},
   "outputs": [],
   "source": []
  },
  {
   "cell_type": "code",
   "execution_count": null,
   "metadata": {},
   "outputs": [],
   "source": []
  },
  {
   "cell_type": "code",
   "execution_count": null,
   "metadata": {},
   "outputs": [],
   "source": []
  },
  {
   "cell_type": "code",
   "execution_count": null,
   "metadata": {},
   "outputs": [],
   "source": []
  },
  {
   "cell_type": "code",
   "execution_count": null,
   "metadata": {},
   "outputs": [],
   "source": []
  },
  {
   "cell_type": "code",
   "execution_count": 2047,
   "metadata": {},
   "outputs": [],
   "source": [
    "import pickle"
   ]
  },
  {
   "cell_type": "code",
   "execution_count": 2048,
   "metadata": {},
   "outputs": [
    {
     "name": "stderr",
     "output_type": "stream",
     "text": [
      "100%|██████████| 24/24 [50:38<00:00, 126.60s/it]\n"
     ]
    }
   ],
   "source": [
    "# train models for each component and for each hour in the next 24 hours\n",
    "NO2_models = {}\n",
    "\n",
    "for i in tqdm.trange(1, 25):\n",
    "    X, y = df_X, df_X[['NO2']]\n",
    "    X, y = create_dataset(X, y, i, 2)\n",
    "    model = CatBoostRegressor(random_state=SEED, verbose=0)\n",
    "    model.fit(X, y)\n",
    "    NO2_models[i] = model"
   ]
  },
  {
   "cell_type": "code",
   "execution_count": 2049,
   "metadata": {},
   "outputs": [],
   "source": [
    "for i, m in NO2_models.items():\n",
    "    with open(f'model_{i}_hour_NO2.pkl', 'wb') as f:\n",
    "        pickle.dump(m, f)"
   ]
  },
  {
   "cell_type": "code",
   "execution_count": null,
   "metadata": {},
   "outputs": [],
   "source": []
  },
  {
   "cell_type": "code",
   "execution_count": null,
   "metadata": {},
   "outputs": [],
   "source": []
  },
  {
   "cell_type": "code",
   "execution_count": null,
   "metadata": {},
   "outputs": [],
   "source": []
  },
  {
   "cell_type": "code",
   "execution_count": null,
   "metadata": {},
   "outputs": [],
   "source": []
  }
 ],
 "metadata": {
  "colab": {
   "name": "neconetic_model_draft.ipynb",
   "provenance": []
  },
  "kernelspec": {
   "display_name": "common_env",
   "language": "python",
   "name": "common_env"
  },
  "language_info": {
   "codemirror_mode": {
    "name": "ipython",
    "version": 3
   },
   "file_extension": ".py",
   "mimetype": "text/x-python",
   "name": "python",
   "nbconvert_exporter": "python",
   "pygments_lexer": "ipython3",
   "version": "3.9.0"
  }
 },
 "nbformat": 4,
 "nbformat_minor": 1
}
