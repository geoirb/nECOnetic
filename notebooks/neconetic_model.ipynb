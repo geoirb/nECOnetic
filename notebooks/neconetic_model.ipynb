{
 "cells": [
  {
   "cell_type": "code",
   "execution_count": 2,
   "metadata": {
    "id": "1KACoGejYqcV"
   },
   "outputs": [],
   "source": [
    "import pandas as pd\n",
    "import numpy as np\n",
    "import os\n",
    "import matplotlib.pyplot as plt\n",
    "import matplotlib.dates as mdates\n",
    "\n",
    "from sklearn.impute import SimpleImputer\n",
    "from sklearn.preprocessing import MinMaxScaler\n",
    "from sklearn.preprocessing import LabelEncoder\n",
    "from sklearn.metrics import mean_squared_error\n",
    "from keras.models import Sequential\n",
    "from keras.layers import Dense\n",
    "from keras.layers import LSTM\n",
    "from keras.layers import RepeatVector\n",
    "from keras.layers import TimeDistributed\n",
    "from sklearn.model_selection import train_test_split"
   ]
  },
  {
   "cell_type": "code",
   "execution_count": 8,
   "metadata": {
    "id": "tsS2rFDiYujT"
   },
   "outputs": [],
   "source": [
    "#  Download data from google disk\n",
    "\n",
    "PROFMERS_DIR = '../dataset/profiler/temperature/'\n",
    "STATION_PATH = '../dataset/Останкино 0 2020 год.xlsx'\n",
    "\n",
    "files_profmers = [PROFMERS_DIR + obj for obj in os.listdir(PROFMERS_DIR) if os.path.isfile(PROFMERS_DIR + obj)]\n",
    "\n",
    "#  profilemers\n",
    "df_profmers = []\n",
    "for file_path in files_profmers:\n",
    "    #print('current file path = {}'.format(file_path))\n",
    "    df = pd.read_csv(file_path, sep=\"\\t\", skiprows=19, decimal=',')\n",
    "    df['datetime'] = pd.to_datetime(df['data time'], format='%d/%m/%Y %H:%M:%S')#pd.to_datetime(df['data time'], dayfirst=True)\n",
    "    df.set_index('datetime', inplace=True)\n",
    "    df_profmers.append(df)\n",
    "df_pr = pd.concat(df_profmers)\n",
    "df_pr.sort_index(inplace=True) \n",
    "\n",
    "#  station\n",
    "df_station = pd.read_excel(STATION_PATH)\n",
    "\n"
   ]
  },
  {
   "cell_type": "code",
   "execution_count": 9,
   "metadata": {
    "id": "IwHLjDTSYw_e"
   },
   "outputs": [],
   "source": [
    "#  Make timestap index \n",
    "df_station['datetime'] = pd.to_datetime(df_station['Дата и время'], format='%d/%m/%Y %H:%M:%S')\n",
    "df_station.set_index('datetime', inplace=True)\n",
    "\n",
    "df_pr.reindex(df_station.index)\n",
    "\n",
    "# Merge station data and profilemers\n",
    "X = df_station.join(df_pr)"
   ]
  },
  {
   "cell_type": "code",
   "execution_count": 10,
   "metadata": {
    "colab": {
     "base_uri": "https://localhost:8080/"
    },
    "id": "iDss2Bu3Y69Y",
    "outputId": "b9a970ec-bad3-4d99-d9f9-074bd6a2e622"
   },
   "outputs": [
    {
     "name": "stdout",
     "output_type": "stream",
     "text": [
      "Features to drop: ['Unnamed: 6', 'Unnamed: 6', 'Дата и время', 'data time']\n",
      "Features to drop: ['Quality']\n"
     ]
    }
   ],
   "source": [
    "# Drop features if all values are missing\n",
    "df_t = X.isnull().all()\n",
    "drop_features = df_t[df_t == True].index.to_list()\n",
    "\n",
    "# Drop features if there are only unique value\n",
    "for feature in X.columns:\n",
    "    if len(X[feature].unique()) < 2:\n",
    "        drop_features.append(feature)\n",
    "\n",
    "# Drop depricated time data\n",
    "depricated_datetime = ['Дата и время', 'data time']\n",
    "for feature in depricated_datetime:\n",
    "    if feature in X.columns:\n",
    "        drop_features.append(feature)\n",
    "\n",
    "print('Features to drop:', drop_features)\n",
    "X = X.drop(columns=drop_features)\n",
    "X.dropna(inplace=True)\n",
    "\n",
    "drop_features = []\n",
    "# Drop features if there are only unique value\n",
    "for feature in X.columns:\n",
    "    if len(X[feature].unique()) < 2:\n",
    "        drop_features.append(feature)\n",
    "\n",
    "\n",
    "print('Features to drop:', drop_features)\n",
    "X = X.drop(columns=drop_features)\n",
    "X.dropna(inplace=True)\n"
   ]
  },
  {
   "cell_type": "code",
   "execution_count": 12,
   "metadata": {
    "colab": {
     "base_uri": "https://localhost:8080/"
    },
    "id": "iR_Q_sFzY9jw",
    "outputId": "01412a20-19c3-43b3-f207-a90b56cdf2b4"
   },
   "outputs": [],
   "source": [
    "def transfer_series_to_samples(df, target_features, n_input=1, n_output=1):\n",
    "    variables_names = df.columns.to_list()\n",
    "    number_of_columns = df.shape[1]\n",
    "\n",
    "    col_values, col_names = [], []\n",
    "    y_values, y_col_names = [], []\n",
    "    for i in range(n_input, 0, -1):\n",
    "        col_values.append(df.shift(i))\n",
    "        col_names += [('{col_name} (t-{step})'.format(col_name=col_name, step=i)) for col_name in variables_names]\n",
    "    for i in range(0, n_output, 1):\n",
    "        y_values.append(df[target_features].shift(-i))\n",
    "        y_col_names += [('{col_name} (t+{step})'.format(col_name=col_name, step=i)) for col_name in variables_names if col_name in target_features]\n",
    "\n",
    "    X_samples = pd.concat(col_values, axis=1)\n",
    "    X_samples.columns = col_names\n",
    "    #X_samples.dropna(inplace=True)\n",
    "\n",
    "    y_samples = pd.concat(y_values, axis=1)\n",
    "    y_samples.columns = y_col_names\n",
    "    #y_samples.dropna(inplace=True)\n",
    "\n",
    "    return X_samples, y_samples\n",
    "\n",
    "TARGET_PARAMS = ['CO', 'NO2', 'NO', 'PM10', 'PM2.5']\n",
    "n_steps_in=504\n",
    "n_steps_out=72\n",
    "\n",
    "# Make samples for supervised learning from initial dataframe \n",
    "# 1 measurment as input, 1 hour as ouptut\n",
    "X_samples, y_samples = transfer_series_to_samples(X, TARGET_PARAMS, n_input=504, n_output=72)\n",
    "\n",
    "nan_rows = X_samples.isnull().any(axis=1) | y_samples.isnull().any(axis=1)\n",
    "X_samples, y_samples = X_samples.drop(X_samples[nan_rows].index), y_samples.drop(y_samples[nan_rows].index)\n",
    "\n",
    "# normalize features\n",
    "#columns_names = X_samples.columns.to_list()\n",
    "scaler = MinMaxScaler(feature_range=(0, 1))\n",
    "X_samples = scaler.fit_transform(X_samples)\n",
    "\n",
    "# normalize features\n",
    "columns_names_y = y_samples.columns.to_list()\n",
    "scaler_y = MinMaxScaler(feature_range=(0, 1))\n",
    "y_samples = scaler_y.fit_transform(y_samples)\n",
    "\n",
    "X_samples = X_samples.reshape(X_samples.shape[0], n_steps_in, 25)\n",
    "y_samples = y_samples.reshape(y_samples.shape[0], n_steps_out, 5)\n",
    "# # normalize features\n",
    "# columns_names = X_samples.columns.to_list()\n",
    "# scaler = MinMaxScaler(feature_range=(0, 1))\n",
    "# X_samples[columns_names] = scaler.fit_transform(X_samples[columns_names])\n",
    "\n",
    "X_train, X_test, y_train, y_test = train_test_split(X_samples, y_samples, test_size=0.25)\n",
    "\n",
    "X_samples.shape"
   ]
  },
  {
   "cell_type": "code",
   "execution_count": 30,
   "metadata": {
    "colab": {
     "base_uri": "https://localhost:8080/"
    },
    "id": "v_I2qfZcflLP",
    "outputId": "34ded91d-0ba6-4b46-e09e-ced5e94e64cb"
   },
   "outputs": [
    {
     "data": {
      "text/plain": [
       "array([[[0.03846154, 0.28683036, 0.00319489, ..., 0.83428981,\n",
       "         0.84357748, 0.79154519],\n",
       "        [0.03846154, 0.296875  , 0.00638978, ..., 0.83680057,\n",
       "         0.84799411, 0.78542274],\n",
       "        [0.03846154, 0.3046875 , 0.00638978, ..., 0.84110473,\n",
       "         0.85314685, 0.7851312 ],\n",
       "        ...,\n",
       "        [0.        , 0.46763393, 0.0929368 , ..., 0.81433346,\n",
       "         0.82430399, 0.6664561 ],\n",
       "        [0.        , 0.44754464, 0.05947955, ..., 0.81878945,\n",
       "         0.82806622, 0.66171826],\n",
       "        [0.        , 0.43303571, 0.03345725, ..., 0.81804679,\n",
       "         0.82881866, 0.64939987]],\n",
       "\n",
       "       [[0.03846154, 0.296875  , 0.00638978, ..., 0.83680057,\n",
       "         0.84799411, 0.78542274],\n",
       "        [0.03846154, 0.3046875 , 0.00638978, ..., 0.84110473,\n",
       "         0.85314685, 0.7851312 ],\n",
       "        [0.03846154, 0.3125    , 0.00638978, ..., 0.83177905,\n",
       "         0.84284137, 0.78017493],\n",
       "        ...,\n",
       "        [0.        , 0.44754464, 0.05947955, ..., 0.81878945,\n",
       "         0.82806622, 0.66171826],\n",
       "        [0.        , 0.43303571, 0.03345725, ..., 0.81804679,\n",
       "         0.82881866, 0.64939987],\n",
       "        [0.        , 0.40290179, 0.03345725, ..., 0.80950613,\n",
       "         0.82167043, 0.65413771]],\n",
       "\n",
       "       [[0.03846154, 0.3046875 , 0.00638978, ..., 0.84110473,\n",
       "         0.85314685, 0.7851312 ],\n",
       "        [0.03846154, 0.3125    , 0.00638978, ..., 0.83177905,\n",
       "         0.84284137, 0.78017493],\n",
       "        [0.07692308, 0.33035714, 0.00638978, ..., 0.82604017,\n",
       "         0.83805668, 0.7696793 ],\n",
       "        ...,\n",
       "        [0.        , 0.43303571, 0.03345725, ..., 0.81804679,\n",
       "         0.82881866, 0.64939987],\n",
       "        [0.        , 0.40290179, 0.03345725, ..., 0.80950613,\n",
       "         0.82167043, 0.65413771],\n",
       "        [0.        , 0.41629464, 0.03717472, ..., 0.81693279,\n",
       "         0.83069977, 0.65698042]],\n",
       "\n",
       "       ...,\n",
       "\n",
       "       [[0.07692308, 0.49330357, 0.02875399, ..., 0.05308465,\n",
       "         0.06036069, 0.18046647],\n",
       "        [0.07692308, 0.51116071, 0.02236422, ..., 0.01757532,\n",
       "         0.02061097, 0.17813411],\n",
       "        [0.07692308, 0.40178571, 0.01277955, ..., 0.        ,\n",
       "         0.        , 0.17376093],\n",
       "        ...,\n",
       "        [0.14285714, 0.34486607, 0.07063197, ..., 0.2952098 ,\n",
       "         0.31527464, 0.24699937],\n",
       "        [0.14285714, 0.33705357, 0.05204461, ..., 0.31600446,\n",
       "         0.33747178, 0.24257738],\n",
       "        [0.14285714, 0.33705357, 0.04832714, ..., 0.3063498 ,\n",
       "         0.32806622, 0.24289324]],\n",
       "\n",
       "       [[0.07692308, 0.51116071, 0.02236422, ..., 0.01757532,\n",
       "         0.02061097, 0.17813411],\n",
       "        [0.07692308, 0.40178571, 0.01277955, ..., 0.        ,\n",
       "         0.        , 0.17376093],\n",
       "        [0.07692308, 0.48549107, 0.02555911, ..., 0.0215208 ,\n",
       "         0.0250276 , 0.16880466],\n",
       "        ...,\n",
       "        [0.14285714, 0.33705357, 0.05204461, ..., 0.31600446,\n",
       "         0.33747178, 0.24257738],\n",
       "        [0.14285714, 0.33705357, 0.04832714, ..., 0.3063498 ,\n",
       "         0.32806622, 0.24289324],\n",
       "        [0.14285714, 0.32700893, 0.04089219, ..., 0.31117713,\n",
       "         0.33333333, 0.24257738]],\n",
       "\n",
       "       [[0.07692308, 0.40178571, 0.01277955, ..., 0.        ,\n",
       "         0.        , 0.17376093],\n",
       "        [0.07692308, 0.48549107, 0.02555911, ..., 0.0215208 ,\n",
       "         0.0250276 , 0.16880466],\n",
       "        [0.07692308, 0.484375  , 0.01597444, ..., 0.017934  ,\n",
       "         0.02392344, 0.16443149],\n",
       "        ...,\n",
       "        [0.14285714, 0.33705357, 0.04832714, ..., 0.3063498 ,\n",
       "         0.32806622, 0.24289324],\n",
       "        [0.14285714, 0.32700893, 0.04089219, ..., 0.31117713,\n",
       "         0.33333333, 0.24257738],\n",
       "        [0.14285714, 0.3046875 , 0.0260223 , ..., 0.29186781,\n",
       "         0.31113619, 0.23910297]]])"
      ]
     },
     "execution_count": 30,
     "metadata": {},
     "output_type": "execute_result"
    }
   ],
   "source": [
    "X_samples "
   ]
  },
  {
   "cell_type": "code",
   "execution_count": 31,
   "metadata": {
    "colab": {
     "base_uri": "https://localhost:8080/"
    },
    "id": "DPDf0XgPZB4x",
    "outputId": "635a94ee-229c-470c-910f-68d1edb26474"
   },
   "outputs": [
    {
     "name": "stdout",
     "output_type": "stream",
     "text": [
      "WARNING:tensorflow:Layer lstm_6 will not use cuDNN kernels since it doesn't meet the criteria. It will use a generic GPU kernel as fallback when running on GPU.\n",
      "WARNING:tensorflow:Layer lstm_7 will not use cuDNN kernels since it doesn't meet the criteria. It will use a generic GPU kernel as fallback when running on GPU.\n",
      "Epoch 1/5\n",
      "32/32 [==============================] - 42s 1s/step - loss: 0.0230 - val_loss: 0.0133\n",
      "Epoch 2/5\n",
      "32/32 [==============================] - 39s 1s/step - loss: 0.0127 - val_loss: 0.0118\n",
      "Epoch 3/5\n",
      "32/32 [==============================] - 39s 1s/step - loss: 0.0117 - val_loss: 0.0111\n",
      "Epoch 4/5\n",
      "32/32 [==============================] - 39s 1s/step - loss: 0.0110 - val_loss: 0.0104\n",
      "Epoch 5/5\n",
      "32/32 [==============================] - 39s 1s/step - loss: 0.0103 - val_loss: 0.0099\n"
     ]
    }
   ],
   "source": [
    "n_steps_in=504\n",
    "n_steps_out=72\n",
    "# X_samples = transfer_series_to_samples(X, TARGET_PARAMS, n_input=n_steps_in, n_output=n_steps_out)\n",
    "\n",
    "# # normalize features\n",
    "# columns_names = X_samples.columns.to_list()\n",
    "# scaler = MinMaxScaler(feature_range=(0, 1))\n",
    "# X_samples[columns_names] = scaler.fit_transform(X_samples[columns_names])\n",
    "\n",
    "# choose a number of time steps\n",
    "#n_steps_in, n_steps_out = 3, 2\n",
    "# covert into input/output\n",
    "#X, y = split_sequences(dataset, n_steps_in, n_steps_out)\n",
    "# the dataset knows the number of features, e.g. 2\n",
    "n_features = X_train.shape[2]\n",
    "input_features = 25\n",
    "target_features = 5\n",
    "# define model\n",
    "model = Sequential()\n",
    "model.add(LSTM(100, activation='relu', input_shape=(n_steps_in, input_features )))\n",
    "model.add(RepeatVector(n_steps_out))\n",
    "model.add(LSTM(100, activation='relu', return_sequences=True))\n",
    "model.add(TimeDistributed(Dense(target_features)))\n",
    "model.compile(optimizer='adam', loss='mse')\n",
    "# fit model\n",
    "history = model.fit(X_train, y_train, epochs=5, batch_size=128, validation_data=(X_test, y_test), verbose=1, shuffle=False)"
   ]
  },
  {
   "cell_type": "code",
   "execution_count": 33,
   "metadata": {
    "colab": {
     "base_uri": "https://localhost:8080/",
     "height": 592
    },
    "id": "KX8vXBvSsbKG",
    "outputId": "346bebfd-140a-4b3e-ff6d-cd9e517eadbb"
   },
   "outputs": [
    {
     "data": {
      "image/png": "[encoded data removed]",
      "text/plain": [
       "<Figure size 1080x720 with 1 Axes>"
      ]
     },
     "metadata": {
      "needs_background": "light"
     },
     "output_type": "display_data"
    }
   ],
   "source": [
    "# Train/Test loss chart\n",
    "# MSE\n",
    "plt.figure(figsize=(15, 10))\n",
    "plt.plot(history.history['loss'], label='train')\n",
    "plt.plot(history.history['val_loss'], label='test')\n",
    "#plt.ylim(0, 0.1)\n",
    "plt.legend()\n",
    "plt.show()"
   ]
  },
  {
   "cell_type": "code",
   "execution_count": null,
   "metadata": {
    "id": "4yfnP8xgsala"
   },
   "outputs": [],
   "source": [
    "a"
   ]
  },
  {
   "cell_type": "code",
   "execution_count": 15,
   "metadata": {
    "colab": {
     "base_uri": "https://localhost:8080/"
    },
    "id": "8Zt7qg5WZMXZ",
    "outputId": "e4be0847-c501-4397-8afc-9b7e5c00e36c"
   },
   "outputs": [
    {
     "name": "stdout",
     "output_type": "stream",
     "text": [
      "INFO:tensorflow:Assets written to: /content/drive/MyDrive/Colab Notebooks/assets\n"
     ]
    }
   ],
   "source": [
    "model.save(filepath='/content/drive/MyDrive/Colab Notebooks/')"
   ]
  },
  {
   "cell_type": "code",
   "execution_count": 18,
   "metadata": {
    "id": "K4_a3MaWr36M"
   },
   "outputs": [],
   "source": [
    "import tensorflow as tf"
   ]
  },
  {
   "cell_type": "code",
   "execution_count": 21,
   "metadata": {
    "colab": {
     "base_uri": "https://localhost:8080/"
    },
    "id": "iJ7yGxdNkbqK",
    "outputId": "97df2e72-e42b-4aed-f93c-f2bbbdbc323f"
   },
   "outputs": [
    {
     "name": "stdout",
     "output_type": "stream",
     "text": [
      "WARNING:tensorflow:Layer lstm_4 will not use cuDNN kernels since it doesn't meet the criteria. It will use a generic GPU kernel as fallback when running on GPU.\n",
      "WARNING:tensorflow:Layer lstm_5 will not use cuDNN kernels since it doesn't meet the criteria. It will use a generic GPU kernel as fallback when running on GPU.\n"
     ]
    }
   ],
   "source": [
    "model = tf.keras.models.load_model(\n",
    "    '/content/drive/MyDrive/Colab Notebooks/', custom_objects=None, compile=True, options=None\n",
    ")"
   ]
  },
  {
   "cell_type": "code",
   "execution_count": 24,
   "metadata": {
    "id": "IYva_eZQsEnO"
   },
   "outputs": [],
   "source": [
    "model.history"
   ]
  },
  {
   "cell_type": "code",
   "execution_count": null,
   "metadata": {
    "id": "VxfLf0NFsOZ_"
   },
   "outputs": [],
   "source": []
  }
 ],
 "metadata": {
  "accelerator": "GPU",
  "colab": {
   "name": "neconetic_model.ipynb",
   "provenance": []
  },
  "kernelspec": {
   "display_name": "model_env",
   "language": "python",
   "name": "model_env"
  },
  "language_info": {
   "codemirror_mode": {
    "name": "ipython",
    "version": 3
   },
   "file_extension": ".py",
   "mimetype": "text/x-python",
   "name": "python",
   "nbconvert_exporter": "python",
   "pygments_lexer": "ipython3",
   "version": "3.10.0"
  }
 },
 "nbformat": 4,
 "nbformat_minor": 1
}
